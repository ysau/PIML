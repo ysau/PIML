{
  "nbformat": 4,
  "nbformat_minor": 0,
  "metadata": {
    "colab": {
      "provenance": [],
      "include_colab_link": true
    },
    "kernelspec": {
      "name": "python3",
      "display_name": "Python 3"
    },
    "language_info": {
      "name": "python"
    }
  },
  "cells": [
    {
      "cell_type": "markdown",
      "metadata": {
        "id": "view-in-github",
        "colab_type": "text"
      },
      "source": [
        "<a href=\"https://colab.research.google.com/github/ysau/PIML/blob/main/one_dimensional_harmonics_oscillator_forward_problem.ipynb\" target=\"_parent\"><img src=\"https://colab.research.google.com/assets/colab-badge.svg\" alt=\"Open In Colab\"/></a>"
      ]
    },
    {
      "cell_type": "markdown",
      "source": [
        "# 1D Harmonics Oscillator: Forward Problem"
      ],
      "metadata": {
        "id": "tUHNl3iEdEfk"
      }
    },
    {
      "cell_type": "markdown",
      "source": [
        "## Problem Statement\n",
        "A mass on spring can be described by the Ordinary Differential Equation (ODE)\n",
        "\n",
        "$$\n",
        "m \\dfrac{d^2 x}{d t^2} + \\mu \\dfrac{d x}{d t} + kx = 0~,\n",
        "$$\n",
        "with the initial conditions\n",
        "$$\n",
        "x(0) = 1~~,~~\\dfrac{d x}{d t} = 0~.\n",
        "$$\n",
        "\n",
        "We are going to train a neural network NN to approximate the solution of the ODE\n",
        "\n",
        "$$\n",
        "N\\!N(t;\\theta) \\approx u(t)~,\n",
        "$$\n",
        "\n",
        "with the loss function L\n",
        "\n",
        "$$\n",
        "L(\\theta)= (N\\!N(0;\\theta) - 1)^2 + \\lambda_1 \\left(\\frac{d N\\!N}{dt}(0;\\theta) - 0\\right)^2 + \\frac{\\lambda_2}{N} \\sum^{N}_{i} \\left( \\left[ m\\frac{d^2}{dt^2} + \\mu \\frac{d}{dt} + k \\right] N\\!N(t_{i};\\theta)  \\right)^2 + \\frac{\\lambda}{M} \\sum^{M}_{j} \\left( N\\!N(t_{j};\\theta) - u_{\\mathrm{obs}}(t_{j}) \\right)^2\n",
        "$$\n",
        "\n",
        "The first two terms are the boundary conditions, the third term is the Physics loss, and the last term is the data loss"
      ],
      "metadata": {
        "id": "WQQqAgs1evDf"
      }
    },
    {
      "cell_type": "code",
      "source": [
        "#@title Setup Codes\n",
        "!pip install black[jupyter] --quiet\n",
        "from google.colab import drive\n",
        "\n",
        "drive.mount(\"/content/drive\")\n",
        "\n",
        "from PIL import Image as PILImage\n",
        "\n",
        "import numpy as np\n",
        "import torch\n",
        "import torch.nn as nn\n",
        "import matplotlib.pyplot as plt"
      ],
      "metadata": {
        "id": "JQJdUO40dAaP",
        "outputId": "a48575c2-7573-4dc7-fcf3-39307d148efa",
        "colab": {
          "base_uri": "https://localhost:8080/"
        }
      },
      "execution_count": 5,
      "outputs": [
        {
          "output_type": "stream",
          "name": "stdout",
          "text": [
            "Drive already mounted at /content/drive; to attempt to forcibly remount, call drive.mount(\"/content/drive\", force_remount=True).\n"
          ]
        }
      ]
    },
    {
      "cell_type": "code",
      "source": [
        "#@title Format using Black\n",
        "!black /content/drive/MyDrive/'Colab Notebooks'/'one_dimensional_harmonics_oscillator_forward_problem.ipynb'"
      ],
      "metadata": {
        "id": "mbAhEqm1h4SK",
        "outputId": "5ca8e097-feee-4107-9b70-aacfab6b239f",
        "colab": {
          "base_uri": "https://localhost:8080/"
        }
      },
      "execution_count": 6,
      "outputs": [
        {
          "output_type": "stream",
          "name": "stdout",
          "text": [
            "\u001b[1mreformatted /content/drive/MyDrive/Colab Notebooks/one_dimensional_harmonics_oscillator_forward_problem.ipynb\u001b[0m\n",
            "\n",
            "\u001b[1mAll done! ✨ 🍰 ✨\u001b[0m\n",
            "\u001b[34m\u001b[1m1 file \u001b[0m\u001b[1mreformatted\u001b[0m.\n"
          ]
        }
      ]
    },
    {
      "cell_type": "markdown",
      "source": [
        "### Disclaimers\n",
        "This notebook was modified based on\n",
        "\n",
        "\n",
        "1.   https://github.com/benmoseley/harmonic-oscillator-pinn\n",
        "2.   https://github.com/benmoseley/FBPINNs\n",
        "\n",
        "My specific contributions include\n",
        "\n",
        "\n",
        "1.   Separate the effects of Physics loss vs data loss\n",
        "2.   Incorporate boundary loss\n",
        "3.   How to improve training using Physics loss only via scheduled training\n",
        "\n",
        "\n",
        "\n"
      ],
      "metadata": {
        "id": "1h8yuYokdMpO"
      }
    }
  ]
}