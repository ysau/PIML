{
  "nbformat": 4,
  "nbformat_minor": 0,
  "metadata": {
    "colab": {
      "provenance": [],
      "authorship_tag": "ABX9TyMb1VJfuS9pBCnmuFWHrkST",
      "include_colab_link": true
    },
    "kernelspec": {
      "name": "python3",
      "display_name": "Python 3"
    },
    "language_info": {
      "name": "python"
    }
  },
  "cells": [
    {
      "cell_type": "markdown",
      "metadata": {
        "id": "view-in-github",
        "colab_type": "text"
      },
      "source": [
        "<a href=\"https://colab.research.google.com/github/ysau/PIML/blob/main/one_dimensional_harmonics_oscillator_forward_problem.ipynb\" target=\"_parent\"><img src=\"https://colab.research.google.com/assets/colab-badge.svg\" alt=\"Open In Colab\"/></a>"
      ]
    },
    {
      "cell_type": "markdown",
      "source": [
        "# 1D Harmonics Oscillator: Forward Problem"
      ],
      "metadata": {
        "id": "tUHNl3iEdEfk"
      }
    },
    {
      "cell_type": "code",
      "source": [],
      "metadata": {
        "id": "JQJdUO40dAaP"
      },
      "execution_count": null,
      "outputs": []
    },
    {
      "cell_type": "markdown",
      "source": [
        "### Disclaimers\n",
        "This notebook was modified based on\n",
        "\n",
        "\n",
        "1.   https://github.com/benmoseley/harmonic-oscillator-pinn\n",
        "2.   https://github.com/benmoseley/FBPINNs\n",
        "\n",
        "My specific contributions include\n",
        "\n",
        "\n",
        "1.   Separate the effects of Physics loss vs data loss\n",
        "2.   Incorporate boundary loss\n",
        "3.   How to improve training using Physics loss only via scheduled training\n",
        "\n",
        "\n",
        "\n"
      ],
      "metadata": {
        "id": "1h8yuYokdMpO"
      }
    }
  ]
}