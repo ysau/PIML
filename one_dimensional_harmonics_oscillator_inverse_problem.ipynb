{
  "nbformat": 4,
  "nbformat_minor": 0,
  "metadata": {
    "colab": {
      "provenance": [],
      "authorship_tag": "ABX9TyN5uLJkN9EfBs6B/Ni6YoeJ",
      "include_colab_link": true
    },
    "kernelspec": {
      "name": "python3",
      "display_name": "Python 3"
    },
    "language_info": {
      "name": "python"
    }
  },
  "cells": [
    {
      "cell_type": "markdown",
      "metadata": {
        "id": "view-in-github",
        "colab_type": "text"
      },
      "source": [
        "<a href=\"https://colab.research.google.com/github/ysau/PIML/blob/main/one_dimensional_harmonics_oscillator_inverse_problem.ipynb\" target=\"_parent\"><img src=\"https://colab.research.google.com/assets/colab-badge.svg\" alt=\"Open In Colab\"/></a>"
      ]
    },
    {
      "cell_type": "markdown",
      "source": [
        "# 1D Harmonics Oscillator: Inverse Problem"
      ],
      "metadata": {
        "id": "-F_0W9mEr8LV"
      }
    },
    {
      "cell_type": "markdown",
      "source": [
        "## Problem Statement\n",
        "In this notebook [[link]](https://colab.research.google.com/github/ysau/PIML/blob/main/one_dimensional_harmonics_oscillator_forward_problem.ipynb), we solved the forward problem using both physics-based loss and data loss. In many cases, the governing differential equations are known, but the exact values of their parameters are not. In this notebook, we focus on fitting those unknown parameters to observed data.\n",
        "\n",
        "Governing equation:\n",
        "\n",
        "$$\n",
        "m \\dfrac{d^2 x}{d t^2} + \\mu \\dfrac{d x}{d t} + kx = 0~,\n",
        "$$\n",
        "with the initial conditions\n",
        "$$\n",
        "x(0) = 1~~,~~\\dfrac{d x}{d t} = 0~.\n",
        "$$\n",
        "\n",
        "where $m$, $\\mu$, and $k$ are unknown."
      ],
      "metadata": {
        "id": "AOaUpcdYsJ_L"
      }
    },
    {
      "cell_type": "code",
      "source": [],
      "metadata": {
        "id": "vA6Oqlu9tycw"
      },
      "execution_count": null,
      "outputs": []
    }
  ]
}